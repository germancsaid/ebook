{
  "nbformat": 4,
  "nbformat_minor": 0,
  "metadata": {
    "colab": {
      "name": "Untitled1.ipynb",
      "provenance": [],
      "authorship_tag": "ABX9TyMLPd1irY8c8EqZ67cDsukG",
      "include_colab_link": true
    },
    "kernelspec": {
      "name": "python3",
      "display_name": "Python 3"
    },
    "language_info": {
      "name": "python"
    }
  },
  "cells": [
    {
      "cell_type": "markdown",
      "metadata": {
        "id": "view-in-github",
        "colab_type": "text"
      },
      "source": [
        "<a href=\"https://colab.research.google.com/github/germancsaid/ebook/blob/Ebook/chef.ipynb\" target=\"_parent\"><img src=\"https://colab.research.google.com/assets/colab-badge.svg\" alt=\"Open In Colab\"/></a>"
      ]
    },
    {
      "cell_type": "code",
      "source": [
        "ndc=list\n",
        "ndc = [\n",
        "    'Uvas',\n",
        "    'Mandarina', \n",
        "    'Naranja', \n",
        "    'Pomelo', \n",
        "    'Frutilla', \n",
        "    'Durazno'\n",
        "    ]\n",
        "\n",
        "print(\"--------------------------------------------------\")\n",
        "\n",
        "print(\"Tienes esto para elegir:\")\n",
        "for l in ndc:\n",
        "    print(l) \n",
        "\n",
        "ndct=list\n",
        "ndct = ndc\n",
        "\n",
        "import random\n",
        "def eleccion(ndct):\n",
        "    return random.choice(ndct)\n",
        "\n",
        "a=eleccion(ndct)\n",
        "print(\"--------------------------------------------------\")\n",
        "print(\"Te toca comer: \", a)\n",
        "print(\"--------------------------------------------------\")\n",
        "ndct.remove(a)\n",
        "print(\"Ahora tienes:\")\n",
        "for ñ in ndc:\n",
        "    print(ñ)\n",
        "print(\"--------------------------------------------------\")\n",
        "print(\"Quieres otra?: \")\n",
        "input()\n",
        "\n"
      ],
      "metadata": {
        "colab": {
          "base_uri": "https://localhost:8080/",
          "height": 383
        },
        "id": "od9sXHiFq4gU",
        "outputId": "8bf8501b-ed64-4e53-de67-73773c98ffe8"
      },
      "execution_count": 1,
      "outputs": [
        {
          "name": "stdout",
          "output_type": "stream",
          "text": [
            "--------------------------------------------------\n",
            "Tienes esto para elegir:\n",
            "Uvas\n",
            "Mandarina\n",
            "Naranja\n",
            "Pomelo\n",
            "Frutilla\n",
            "Durazno\n",
            "--------------------------------------------------\n",
            "Te toca comer:  Uvas\n",
            "--------------------------------------------------\n",
            "Ahora tienes:\n",
            "Mandarina\n",
            "Naranja\n",
            "Pomelo\n",
            "Frutilla\n",
            "Durazno\n",
            "--------------------------------------------------\n",
            "Quieres otra?: \n",
            "si\n"
          ]
        },
        {
          "output_type": "execute_result",
          "data": {
            "text/plain": [
              "'si'"
            ],
            "application/vnd.google.colaboratory.intrinsic+json": {
              "type": "string"
            }
          },
          "metadata": {},
          "execution_count": 1
        }
      ]
    }
  ]
}